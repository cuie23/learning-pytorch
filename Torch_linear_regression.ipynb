{
  "nbformat": 4,
  "nbformat_minor": 0,
  "metadata": {
    "colab": {
      "provenance": [],
      "authorship_tag": "ABX9TyN8wKKBzqdSuQcGafnyiNuU",
      "include_colab_link": true
    },
    "kernelspec": {
      "name": "python3",
      "display_name": "Python 3"
    },
    "language_info": {
      "name": "python"
    }
  },
  "cells": [
    {
      "cell_type": "markdown",
      "metadata": {
        "id": "view-in-github",
        "colab_type": "text"
      },
      "source": [
        "<a href=\"https://colab.research.google.com/github/cuie23/learning-pytorch/blob/main/Torch_linear_regression.ipynb\" target=\"_parent\"><img src=\"https://colab.research.google.com/assets/colab-badge.svg\" alt=\"Open In Colab\"/></a>"
      ]
    },
    {
      "cell_type": "code",
      "execution_count": null,
      "metadata": {
        "id": "g97OVZeuQmaJ"
      },
      "outputs": [],
      "source": [
        "import torch\n",
        "from torch import nn  # Torch neural net package\n",
        "import numpy as np\n",
        "\n",
        "import matplotlib.pyplot as plt\n",
        "from sklearn.model_selection import train_test_split"
      ]
    },
    {
      "cell_type": "code",
      "source": [
        "torch.__version__"
      ],
      "metadata": {
        "id": "7GAMxj6BQrEL",
        "colab": {
          "base_uri": "https://localhost:8080/",
          "height": 36
        },
        "outputId": "0ef3837a-6a23-4e2b-a2cb-50b4f3ee90a1"
      },
      "execution_count": null,
      "outputs": [
        {
          "output_type": "execute_result",
          "data": {
            "text/plain": [
              "'2.5.1+cu121'"
            ],
            "application/vnd.google.colaboratory.intrinsic+json": {
              "type": "string"
            }
          },
          "metadata": {},
          "execution_count": 2
        }
      ]
    },
    {
      "cell_type": "markdown",
      "source": [
        "## Frequently used stuff\n",
        "* torch.nn\n",
        "  * building blocks for graphs\n",
        "* torch.nn.Parameter: which  \n",
        "  * parameters from which the model will try and learn\n",
        "* torch.nn.Module\n",
        "  * base class for all NN modules\n",
        "  * need to override forward()\n",
        "* torch.optim\n",
        "  * gradient descent optimizers\n",
        "* torch.utils.data.Dataset, torch.utils.data.DataLoader\n",
        "  * load data"
      ],
      "metadata": {
        "id": "cNU-fiN980fL"
      }
    },
    {
      "cell_type": "code",
      "source": [
        "def plot_predictions(train_data,\n",
        "                     train_labels,\n",
        "                     test_data,\n",
        "                     test_labels,\n",
        "                     predictions=None):\n",
        "  \"\"\"\n",
        "  Plots training data, test data and compares predictions.\n",
        "  \"\"\"\n",
        "  plt.figure(figsize=(10, 7))\n",
        "\n",
        "  # Plot training data in blue\n",
        "  plt.scatter(train_data, train_labels, c=\"b\", s=4, label=\"Training data\")\n",
        "\n",
        "  # Plot test data in green\n",
        "  plt.scatter(test_data, test_labels, c=\"g\", s=4, label=\"Testing data\")\n",
        "\n",
        "  if predictions is not None:\n",
        "    # Plot the predictions in red (predictions were made on the test data)\n",
        "    plt.scatter(test_data, predictions, c=\"r\", s=4, label=\"Predictions\")\n",
        "\n",
        "  # Show the legend\n",
        "  plt.legend(prop={\"size\": 14});"
      ],
      "metadata": {
        "id": "FwTGmWQJE5Uw"
      },
      "execution_count": null,
      "outputs": []
    },
    {
      "cell_type": "markdown",
      "source": [
        "## Preparing/Loading Data\n",
        "- Create sample linear data with known params\n",
        "- $y=ax+b+\\varepsilon$"
      ],
      "metadata": {
        "id": "108SrXpP3mlX"
      }
    },
    {
      "cell_type": "code",
      "source": [
        "weight = 0.7\n",
        "bias = 0.3\n",
        "\n",
        "start = 0\n",
        "end = 1\n",
        "step = 0.02\n",
        "\n",
        "X = torch.arange(start, end, step = step).unsqueeze(dim = 1)\n",
        "y = weight * X + bias\n",
        "\n",
        "X_train, X_test, y_train, y_test = train_test_split(X, y, test_size = 0.2)"
      ],
      "metadata": {
        "id": "ZD8XfzZj3nvV"
      },
      "execution_count": null,
      "outputs": []
    },
    {
      "cell_type": "markdown",
      "source": [
        "## Create Model\n",
        "- Linear Regression"
      ],
      "metadata": {
        "id": "f9mubCcE42OU"
      }
    },
    {
      "cell_type": "code",
      "source": [
        "class LinearRegression(nn.Module): # inherit from nn.Module, subclass\n",
        "  def __init__(self):\n",
        "    super().__init__()\n",
        "\n",
        "    # initialize model parameters\n",
        "    self.weights = nn.Parameter(torch.randn(1, requires_grad=True, dtype = torch.float))\n",
        "    self.bias = nn.Parameter(torch.randn(1, requires_grad=True, dtype = torch.float))\n",
        "\n",
        "  # function used in the forward pass of the NN\n",
        "  def forward(self, x : torch.tensor) -> torch.Tensor:\n",
        "    return self.weights * x + self.bias    # linear regression formula\n"
      ],
      "metadata": {
        "id": "-22S98QA3mBl"
      },
      "execution_count": null,
      "outputs": []
    },
    {
      "cell_type": "code",
      "source": [
        "torch.manual_seed(42) # initialize with random values\n",
        "\n",
        "model = LinearRegression()\n",
        "print(model.state_dict()) # model will try to adjust weight, bias to fit data"
      ],
      "metadata": {
        "colab": {
          "base_uri": "https://localhost:8080/"
        },
        "id": "Z90t9GtG3h3B",
        "outputId": "b82f2521-0f75-4da3-e888-66436a15158e"
      },
      "execution_count": null,
      "outputs": [
        {
          "output_type": "stream",
          "name": "stdout",
          "text": [
            "OrderedDict([('weights', tensor([0.3367])), ('bias', tensor([0.1288]))])\n"
          ]
        }
      ]
    },
    {
      "cell_type": "code",
      "source": [
        "# train\n",
        "loss_fn = nn.MSELoss()\n",
        "optimizer = torch.optim.SGD(params = model.parameters(), lr = 0.01)\n",
        "\n",
        "torch.manual_seed(42)\n",
        "\n",
        "epochs = 5000\n",
        "\n",
        "# Create empty loss lists to track values\n",
        "train_loss_values = []\n",
        "test_loss_values = []\n",
        "epoch_count = []\n",
        "\n",
        "for epoch in range(epochs):\n",
        "  model.train()                     # 1. put model in training mode\n",
        "  y_pred = model(X_train)           # 2. forward pass\n",
        "  loss = loss_fn(y_pred, y_train)   # 3. get loss\n",
        "  optimizer.zero_grad()             # 4. zero optimizer\n",
        "  loss.backward()                   # 5. backpropogation (calculate gradients)\n",
        "  optimizer.step()                  # 6. step along gradient\n",
        "\n",
        "\n",
        "  model.eval()                      # evaluation mode\n",
        "  with torch.inference_mode():\n",
        "    test_pred = model(X_test)       # forward pass on test data\n",
        "    test_loss = loss_fn(test_pred, y_test.type(torch.float))\n",
        "\n",
        "    if (epoch % 50 == 0):           # store every 10th epoch\n",
        "      epoch_count.append(epoch)\n",
        "      train_loss_values.append(loss.detach().numpy())   # detach is pulling value out of\n",
        "      test_loss_values.append(test_loss.detach().numpy())\n",
        "      print(f\"Epoch: {epoch} | MAE Train Loss: {loss} | MAE Test Loss: {test_loss} \")\n"
      ],
      "metadata": {
        "colab": {
          "base_uri": "https://localhost:8080/"
        },
        "id": "toOUDCnsm5Zu",
        "outputId": "1d8c2a0d-971c-40d7-de9e-162f82e6db48"
      },
      "execution_count": null,
      "outputs": [
        {
          "output_type": "stream",
          "name": "stdout",
          "text": [
            "Epoch: 0 | MAE Train Loss: 0.00020449477597139776 | MAE Test Loss: 0.00021643417130690068 \n",
            "Epoch: 50 | MAE Train Loss: 0.0001792821567505598 | MAE Test Loss: 0.0001897496113087982 \n",
            "Epoch: 100 | MAE Train Loss: 0.00015717861242592335 | MAE Test Loss: 0.0001663553703110665 \n",
            "Epoch: 150 | MAE Train Loss: 0.00013779998698737472 | MAE Test Loss: 0.00014584574091713876 \n",
            "Epoch: 200 | MAE Train Loss: 0.00012081013119313866 | MAE Test Loss: 0.0001278639247175306 \n",
            "Epoch: 250 | MAE Train Loss: 0.00010591498721623793 | MAE Test Loss: 0.00011209950025659055 \n",
            "Epoch: 300 | MAE Train Loss: 9.285806299885735e-05 | MAE Test Loss: 9.827956091612577e-05 \n",
            "Epoch: 350 | MAE Train Loss: 8.140889985952526e-05 | MAE Test Loss: 8.616068953415379e-05 \n",
            "Epoch: 400 | MAE Train Loss: 7.137165812309831e-05 | MAE Test Loss: 7.553854084108025e-05 \n",
            "Epoch: 450 | MAE Train Loss: 6.25722313998267e-05 | MAE Test Loss: 6.622540968237445e-05 \n",
            "Epoch: 500 | MAE Train Loss: 5.485775909619406e-05 | MAE Test Loss: 5.8060606534127146e-05 \n",
            "Epoch: 550 | MAE Train Loss: 4.809437814401463e-05 | MAE Test Loss: 5.0902377552120015e-05 \n",
            "Epoch: 600 | MAE Train Loss: 4.216493834974244e-05 | MAE Test Loss: 4.462669312488288e-05 \n",
            "Epoch: 650 | MAE Train Loss: 3.696647036122158e-05 | MAE Test Loss: 3.9124708564486355e-05 \n",
            "Epoch: 700 | MAE Train Loss: 3.240869409637526e-05 | MAE Test Loss: 3.430077413213439e-05 \n",
            "Epoch: 750 | MAE Train Loss: 2.841311834345106e-05 | MAE Test Loss: 3.007198392879218e-05 \n",
            "Epoch: 800 | MAE Train Loss: 2.4909470084821805e-05 | MAE Test Loss: 2.6364074074081145e-05 \n",
            "Epoch: 850 | MAE Train Loss: 2.1838191969436593e-05 | MAE Test Loss: 2.3113498173188418e-05 \n",
            "Epoch: 900 | MAE Train Loss: 1.9145709302392788e-05 | MAE Test Loss: 2.0263518308638595e-05 \n",
            "Epoch: 950 | MAE Train Loss: 1.6785128536866978e-05 | MAE Test Loss: 1.7765152733772993e-05 \n",
            "Epoch: 1000 | MAE Train Loss: 1.4715657925989944e-05 | MAE Test Loss: 1.5574800272588618e-05 \n",
            "Epoch: 1050 | MAE Train Loss: 1.2901242371299304e-05 | MAE Test Loss: 1.3654667782247998e-05 \n",
            "Epoch: 1100 | MAE Train Loss: 1.1310740774206351e-05 | MAE Test Loss: 1.1971018466283567e-05 \n",
            "Epoch: 1150 | MAE Train Loss: 9.91631986835273e-06 | MAE Test Loss: 1.0495250535313971e-05 \n",
            "Epoch: 1200 | MAE Train Loss: 8.6935924628051e-06 | MAE Test Loss: 9.201043212669902e-06 \n",
            "Epoch: 1250 | MAE Train Loss: 7.621713848493528e-06 | MAE Test Loss: 8.066788723226637e-06 \n",
            "Epoch: 1300 | MAE Train Loss: 6.682049388473388e-06 | MAE Test Loss: 7.072306289046537e-06 \n",
            "Epoch: 1350 | MAE Train Loss: 5.8582809288054705e-06 | MAE Test Loss: 6.200353709573392e-06 \n",
            "Epoch: 1400 | MAE Train Loss: 5.136038907949114e-06 | MAE Test Loss: 5.435760158434277e-06 \n",
            "Epoch: 1450 | MAE Train Loss: 4.50276047558873e-06 | MAE Test Loss: 4.76561672257958e-06 \n",
            "Epoch: 1500 | MAE Train Loss: 3.947635377699044e-06 | MAE Test Loss: 4.1780976971494965e-06 \n",
            "Epoch: 1550 | MAE Train Loss: 3.4609056456247345e-06 | MAE Test Loss: 3.662932158476906e-06 \n",
            "Epoch: 1600 | MAE Train Loss: 3.0341896035679383e-06 | MAE Test Loss: 3.2112852750287857e-06 \n",
            "Epoch: 1650 | MAE Train Loss: 2.660032350831898e-06 | MAE Test Loss: 2.8153995117463637e-06 \n",
            "Epoch: 1700 | MAE Train Loss: 2.332034227947588e-06 | MAE Test Loss: 2.468258117005462e-06 \n",
            "Epoch: 1750 | MAE Train Loss: 2.044597522399272e-06 | MAE Test Loss: 2.1639591523126e-06 \n",
            "Epoch: 1800 | MAE Train Loss: 1.7925169686350273e-06 | MAE Test Loss: 1.897183210530784e-06 \n",
            "Epoch: 1850 | MAE Train Loss: 1.5715584140707506e-06 | MAE Test Loss: 1.6632957340334542e-06 \n",
            "Epoch: 1900 | MAE Train Loss: 1.3778119409835199e-06 | MAE Test Loss: 1.4582440144295106e-06 \n",
            "Epoch: 1950 | MAE Train Loss: 1.207997911478742e-06 | MAE Test Loss: 1.2784748832928017e-06 \n",
            "Epoch: 2000 | MAE Train Loss: 1.0590464398774202e-06 | MAE Test Loss: 1.1208579735466628e-06 \n",
            "Epoch: 2050 | MAE Train Loss: 9.284732982450805e-07 | MAE Test Loss: 9.826773066379246e-07 \n",
            "Epoch: 2100 | MAE Train Loss: 8.139930969264242e-07 | MAE Test Loss: 8.615420483693015e-07 \n",
            "Epoch: 2150 | MAE Train Loss: 7.136487738534925e-07 | MAE Test Loss: 7.552981173830631e-07 \n",
            "Epoch: 2200 | MAE Train Loss: 6.256722144826199e-07 | MAE Test Loss: 6.622307751058543e-07 \n",
            "Epoch: 2250 | MAE Train Loss: 5.485267138283234e-07 | MAE Test Loss: 5.805738396702509e-07 \n",
            "Epoch: 2300 | MAE Train Loss: 4.808722451343783e-07 | MAE Test Loss: 5.089720502837736e-07 \n",
            "Epoch: 2350 | MAE Train Loss: 4.216114177779673e-07 | MAE Test Loss: 4.46224078132218e-07 \n",
            "Epoch: 2400 | MAE Train Loss: 3.696417820719944e-07 | MAE Test Loss: 3.912286103968654e-07 \n",
            "Epoch: 2450 | MAE Train Loss: 3.240666615056398e-07 | MAE Test Loss: 3.4300381912544253e-07 \n",
            "Epoch: 2500 | MAE Train Loss: 2.841217678906105e-07 | MAE Test Loss: 3.0072175150053226e-07 \n",
            "Epoch: 2550 | MAE Train Loss: 2.491179600383475e-07 | MAE Test Loss: 2.6367675332039653e-07 \n",
            "Epoch: 2600 | MAE Train Loss: 2.184114009651239e-07 | MAE Test Loss: 2.311647904207348e-07 \n",
            "Epoch: 2650 | MAE Train Loss: 1.9150635921505454e-07 | MAE Test Loss: 2.0268566913728137e-07 \n",
            "Epoch: 2700 | MAE Train Loss: 1.6790761492302408e-07 | MAE Test Loss: 1.7769279736512544e-07 \n",
            "Epoch: 2750 | MAE Train Loss: 1.472179462780332e-07 | MAE Test Loss: 1.5580022250105685e-07 \n",
            "Epoch: 2800 | MAE Train Loss: 1.2908347457596392e-07 | MAE Test Loss: 1.3661653497365478e-07 \n",
            "Epoch: 2850 | MAE Train Loss: 1.1316662806848399e-07 | MAE Test Loss: 1.1979257408256672e-07 \n",
            "Epoch: 2900 | MAE Train Loss: 9.924040256237276e-08 | MAE Test Loss: 1.0504754754947498e-07 \n",
            "Epoch: 2950 | MAE Train Loss: 8.700061471245135e-08 | MAE Test Loss: 9.209171025759133e-08 \n",
            "Epoch: 3000 | MAE Train Loss: 7.628803189163591e-08 | MAE Test Loss: 8.073274671005493e-08 \n",
            "Epoch: 3050 | MAE Train Loss: 6.687309195285707e-08 | MAE Test Loss: 7.079786712438363e-08 \n",
            "Epoch: 3100 | MAE Train Loss: 5.865663155191214e-08 | MAE Test Loss: 6.210321856769951e-08 \n",
            "Epoch: 3150 | MAE Train Loss: 5.144362447140338e-08 | MAE Test Loss: 5.4452744535637976e-08 \n",
            "Epoch: 3200 | MAE Train Loss: 4.511869633461174e-08 | MAE Test Loss: 4.775019846192663e-08 \n",
            "Epoch: 3250 | MAE Train Loss: 3.957302752155556e-08 | MAE Test Loss: 4.188868274468405e-08 \n",
            "Epoch: 3300 | MAE Train Loss: 3.471286902367865e-08 | MAE Test Loss: 3.674442083934082e-08 \n",
            "Epoch: 3350 | MAE Train Loss: 3.04427167918675e-08 | MAE Test Loss: 3.221884981030598e-08 \n",
            "Epoch: 3400 | MAE Train Loss: 2.6685096798928498e-08 | MAE Test Loss: 2.824431533099414e-08 \n",
            "Epoch: 3450 | MAE Train Loss: 2.3386338199316015e-08 | MAE Test Loss: 2.4756042549256563e-08 \n",
            "Epoch: 3500 | MAE Train Loss: 2.053054970474477e-08 | MAE Test Loss: 2.1725899301827667e-08 \n",
            "Epoch: 3550 | MAE Train Loss: 1.8009396640650266e-08 | MAE Test Loss: 1.9060463429809715e-08 \n",
            "Epoch: 3600 | MAE Train Loss: 1.5769160199852195e-08 | MAE Test Loss: 1.670416338583891e-08 \n",
            "Epoch: 3650 | MAE Train Loss: 1.3855317781974463e-08 | MAE Test Loss: 1.4654389701718173e-08 \n",
            "Epoch: 3700 | MAE Train Loss: 1.2154974804445828e-08 | MAE Test Loss: 1.28739561233715e-08 \n",
            "Epoch: 3750 | MAE Train Loss: 1.0665242022867005e-08 | MAE Test Loss: 1.1289330359431915e-08 \n",
            "Epoch: 3800 | MAE Train Loss: 9.369784947921289e-09 | MAE Test Loss: 9.922539234707983e-09 \n",
            "Epoch: 3850 | MAE Train Loss: 8.226640701991528e-09 | MAE Test Loss: 8.711326771049244e-09 \n",
            "Epoch: 3900 | MAE Train Loss: 7.220732012314102e-09 | MAE Test Loss: 7.65360930188308e-09 \n",
            "Epoch: 3950 | MAE Train Loss: 6.355036052951846e-09 | MAE Test Loss: 6.722049583629541e-09 \n",
            "Epoch: 4000 | MAE Train Loss: 5.561779925500332e-09 | MAE Test Loss: 5.912078826497691e-09 \n",
            "Epoch: 4050 | MAE Train Loss: 4.909419093479528e-09 | MAE Test Loss: 5.188304452730108e-09 \n",
            "Epoch: 4100 | MAE Train Loss: 4.323251978632925e-09 | MAE Test Loss: 4.5801473724793595e-09 \n",
            "Epoch: 4150 | MAE Train Loss: 3.778892754269236e-09 | MAE Test Loss: 4.024863997642569e-09 \n",
            "Epoch: 4200 | MAE Train Loss: 3.3435294533035176e-09 | MAE Test Loss: 3.5317917479460448e-09 \n",
            "Epoch: 4250 | MAE Train Loss: 2.9568207882135766e-09 | MAE Test Loss: 3.131917170051679e-09 \n",
            "Epoch: 4300 | MAE Train Loss: 2.595760495438526e-09 | MAE Test Loss: 2.7625373100192974e-09 \n",
            "Epoch: 4350 | MAE Train Loss: 2.2697146384587086e-09 | MAE Test Loss: 2.4210233817711924e-09 \n",
            "Epoch: 4400 | MAE Train Loss: 2.017401135034902e-09 | MAE Test Loss: 2.1272663630611532e-09 \n",
            "Epoch: 4450 | MAE Train Loss: 1.7929675522054822e-09 | MAE Test Loss: 1.898441848169341e-09 \n",
            "Epoch: 4500 | MAE Train Loss: 1.5821713938990456e-09 | MAE Test Loss: 1.6836450011936677e-09 \n",
            "Epoch: 4550 | MAE Train Loss: 1.384389269887265e-09 | MAE Test Loss: 1.4812362447713667e-09 \n",
            "Epoch: 4600 | MAE Train Loss: 1.208486422044075e-09 | MAE Test Loss: 1.2953844663599057e-09 \n",
            "Epoch: 4650 | MAE Train Loss: 1.0705888398021557e-09 | MAE Test Loss: 1.1295691049184597e-09 \n",
            "Epoch: 4700 | MAE Train Loss: 9.577363346835455e-10 | MAE Test Loss: 1.0123156757302354e-09 \n",
            "Epoch: 4750 | MAE Train Loss: 8.550188890232846e-10 | MAE Test Loss: 9.083940821774661e-10 \n",
            "Epoch: 4800 | MAE Train Loss: 7.57708895626763e-10 | MAE Test Loss: 8.084509173222898e-10 \n",
            "Epoch: 4850 | MAE Train Loss: 6.664767626674006e-10 | MAE Test Loss: 7.149701386488516e-10 \n",
            "Epoch: 4900 | MAE Train Loss: 5.811148784395925e-10 | MAE Test Loss: 6.267836250017922e-10 \n",
            "Epoch: 4950 | MAE Train Loss: 5.018031545844792e-10 | MAE Test Loss: 5.45016809461174e-10 \n"
          ]
        }
      ]
    },
    {
      "cell_type": "code",
      "source": [
        "# Plot the loss curves\n",
        "plt.plot(epoch_count, train_loss_values, label=\"Train loss\")\n",
        "plt.plot(epoch_count, test_loss_values, label=\"Test loss\")\n",
        "plt.title(\"Training and test loss curves\")\n",
        "plt.ylabel(\"Loss\")\n",
        "plt.xlabel(\"Epochs\")\n",
        "plt.legend()"
      ],
      "metadata": {
        "colab": {
          "base_uri": "https://localhost:8080/",
          "height": 490
        },
        "id": "39zWVc1hqabg",
        "outputId": "5e59041f-b5ab-43c8-c9ef-35dd28dd5380"
      },
      "execution_count": null,
      "outputs": [
        {
          "output_type": "execute_result",
          "data": {
            "text/plain": [
              "<matplotlib.legend.Legend at 0x7e6d95d1ace0>"
            ]
          },
          "metadata": {},
          "execution_count": 24
        },
        {
          "output_type": "display_data",
          "data": {
            "text/plain": [
              "<Figure size 640x480 with 1 Axes>"
            ],
            "image/png": "[encoded data removed]"
          },
          "metadata": {}
        }
      ]
    },
    {
      "cell_type": "code",
      "source": [
        "print(model.state_dict())  # end params\n"
      ],
      "metadata": {
        "colab": {
          "base_uri": "https://localhost:8080/"
        },
        "id": "2cxhl65v1iat",
        "outputId": "90df44e7-290d-4d6e-af2e-b26a06d372c7"
      },
      "execution_count": null,
      "outputs": [
        {
          "output_type": "stream",
          "name": "stdout",
          "text": [
            "OrderedDict([('weights', tensor([0.6999])), ('bias', tensor([0.3000]))])\n"
          ]
        }
      ]
    },
    {
      "cell_type": "code",
      "source": [
        "# make predictions\n",
        "with torch.inference_mode():\n",
        "  y_preds = model(X_test)\n",
        "\n",
        "plot_predictions(train_data = X_train, train_labels = y_train, test_data = X_test, test_labels = y_test, predictions = y_preds)"
      ],
      "metadata": {
        "colab": {
          "base_uri": "https://localhost:8080/",
          "height": 599
        },
        "id": "Tw4EW2NhDcx9",
        "outputId": "1f0cafde-bd58-4ee2-e69a-e7c96f7ae8cd"
      },
      "execution_count": null,
      "outputs": [
        {
          "output_type": "display_data",
          "data": {
            "text/plain": [
              "<Figure size 1000x700 with 1 Axes>"
            ],
            "image/png": "[encoded data removed]"
          },
          "metadata": {}
        }
      ]
    },
    {
      "cell_type": "code",
      "source": [],
      "metadata": {
        "id": "xdY12XI1Ejug"
      },
      "execution_count": null,
      "outputs": []
    }
  ]
}